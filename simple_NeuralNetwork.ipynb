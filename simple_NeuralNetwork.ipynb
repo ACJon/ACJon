{
  "nbformat": 4,
  "nbformat_minor": 0,
  "metadata": {
    "colab": {
      "provenance": [],
      "authorship_tag": "ABX9TyPx4S8EraaWhr4eALxXJ3yy",
      "include_colab_link": true
    },
    "kernelspec": {
      "name": "python3",
      "display_name": "Python 3"
    },
    "language_info": {
      "name": "python"
    }
  },
  "cells": [
    {
      "cell_type": "markdown",
      "metadata": {
        "id": "view-in-github",
        "colab_type": "text"
      },
      "source": [
        "<a href=\"https://colab.research.google.com/github/ACJon/ACJon/blob/main/simple_NeuralNetwork.ipynb\" target=\"_parent\"><img src=\"https://colab.research.google.com/assets/colab-badge.svg\" alt=\"Open In Colab\"/></a>"
      ]
    },
    {
      "cell_type": "code",
      "execution_count": 1,
      "metadata": {
        "id": "KzxysoF2HQIs"
      },
      "outputs": [],
      "source": [
        "import torch\n",
        "import torch.nn as nn\n",
        "import torch.nn.functional as F\n"
      ]
    },
    {
      "cell_type": "code",
      "source": [
        "# create a Model Class that inherits nn.Module\n",
        "class Model(nn.Module):\n",
        "    # Input layer  (4 features of the flower) -->\n",
        "    # Hidden layer1 (number of neurons) -->\n",
        "    # H2 (n) -->\n",
        "    # output (3 classes of iris flowers)\n",
        "    def __init__(self, inp_features=4, h1=8, h2=9, outp_features=3):\n",
        "      super().__init__() # Instantiate our nn.Module\n",
        "      self.fc1 = nn.Linear(inp_features, h1)\n",
        "      self.fc2 = nn.Linear(h1, h2)\n",
        "      self.out = nn.Linear(h2, outp_features)\n",
        "\n",
        "    def forward(self, x):\n",
        "      x = F.relu(self.fc1(x))\n",
        "      x = F.relu(self.fc2(x))\n",
        "      x = self.out(x)\n",
        "      return x"
      ],
      "metadata": {
        "id": "KjbpXSU1H4Ph"
      },
      "execution_count": 8,
      "outputs": []
    },
    {
      "cell_type": "code",
      "source": [
        "# Create a manual seed for randomisation\n",
        "torch.manual_seed(41)\n",
        "# Create an instance of model\n",
        "model = Model()\n"
      ],
      "metadata": {
        "id": "xLmtm8NqIlZe"
      },
      "execution_count": 9,
      "outputs": []
    },
    {
      "cell_type": "code",
      "source": [],
      "metadata": {
        "id": "RthqE-rhK8PR"
      },
      "execution_count": null,
      "outputs": []
    }
  ]
}